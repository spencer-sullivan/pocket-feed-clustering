{
 "cells": [
  {
   "cell_type": "code",
   "execution_count": 1,
   "metadata": {},
   "outputs": [],
   "source": [
    "import requests, re, json\n",
    "from tqdm import tqdm\n",
    "from pocket import Pocket, PocketException\n",
    "from bs4 import BeautifulSoup\n",
    "from bs4.element import Comment"
   ]
  },
  {
   "cell_type": "code",
   "execution_count": 2,
   "metadata": {},
   "outputs": [],
   "source": [
    "# fill these in using \n",
    "# https://getpocket.com/developer/\n",
    "# and\n",
    "# http://reader.fxneumann.de/plugins/oneclickpocket/auth.php\n",
    "p = Pocket(\n",
    "    consumer_key='',\n",
    "    access_token=''\n",
    ")"
   ]
  },
  {
   "cell_type": "code",
   "execution_count": 3,
   "metadata": {},
   "outputs": [],
   "source": [
    "articles = p.retrieve()['list']"
   ]
  },
  {
   "cell_type": "code",
   "execution_count": 4,
   "metadata": {},
   "outputs": [],
   "source": [
    "def tag_visible(element):\n",
    "    if element.parent.name in ['style', 'script', 'head', 'title', 'meta', '[document]']:\n",
    "        return False\n",
    "    if isinstance(element, Comment):\n",
    "        return False\n",
    "    if re.match(r\"[\\s\\r\\n]+\", element.encode('utf-8')): \n",
    "        return False\n",
    "    return True\n",
    "\n",
    "def text_from_html(body):\n",
    "    soup = BeautifulSoup(body, 'html.parser')\n",
    "    texts = soup.findAll(text=True)\n",
    "    visible_texts = filter(tag_visible, texts)  \n",
    "    return u\" \".join(t.strip() for t in visible_texts)\n",
    "\n",
    "def url_to_html(url):\n",
    "    return requests.get(url, timeout=10).text"
   ]
  },
  {
   "cell_type": "code",
   "execution_count": 5,
   "metadata": {},
   "outputs": [
    {
     "name": "stdout",
     "output_type": "stream",
     "text": [
      "There was an exception scraping the url 'http://techblog.netflix.com/2015/02/rad-outlier-detection-on-big-data.html': ('Connection aborted.', error(54, 'Connection reset by peer'))\n"
     ]
    },
    {
     "name": "stdout",
     "output_type": "stream",
     "text": [
      "There was an exception scraping the url 'http://web-rat.com/posts/2016/08/23/self-compiling-go-docker/': HTTPSConnectionPool(host='web-rat.com', port=443): Read timed out. (read timeout=10)\n"
     ]
    },
    {
     "name": "stdout",
     "output_type": "stream",
     "text": [
      "There was an exception scraping the url 'http://jsonfiddle.me/': HTTPConnectionPool(host='jsonfiddle.me', port=80): Max retries exceeded with url: / (Caused by NewConnectionError('<urllib3.connection.HTTPConnection object at 0x11055ea90>: Failed to establish a new connection: [Errno 8] nodename nor servname provided, or not known',))\n"
     ]
    },
    {
     "name": "stdout",
     "output_type": "stream",
     "text": [
      "There was an exception scraping the url 'http://schier.co/blog/2015/04/26/a-simple-web-scraper-in-go.html': ('Connection aborted.', BadStatusLine(\"''\",))\n"
     ]
    },
    {
     "name": "stdout",
     "output_type": "stream",
     "text": [
      "There was an exception scraping the url 'https://dataquest.io/': HTTPSConnectionPool(host='dataquest.io', port=443): Max retries exceeded with url: / (Caused by SSLError(SSLError(1, u'[SSL: CERTIFICATE_VERIFY_FAILED] certificate verify failed (_ssl.c:590)'),))\n"
     ]
    },
    {
     "name": "stderr",
     "output_type": "stream",
     "text": [
      "100%|██████████| 379/379 [06:56<00:00,  1.10s/it]\n"
     ]
    }
   ],
   "source": [
    "for article_id, article in tqdm(articles.items()):\n",
    "    url = article['given_url']\n",
    "    try:\n",
    "        html = url_to_html(url)\n",
    "        article['html'] = html\n",
    "        article['text'] = text_from_html(html)\n",
    "    except (requests.exceptions.Timeout, requests.exceptions.RequestException) as e:\n",
    "        # we could not scrape the page, so it is useless\n",
    "        del articles[article_id]\n",
    "        print(\"There was an exception scraping the url '%s': %s\" % (url, e))"
   ]
  },
  {
   "cell_type": "code",
   "execution_count": 6,
   "metadata": {},
   "outputs": [],
   "source": [
    "with open('articles.json', 'w+') as outfile:\n",
    "    json.dump(articles, outfile)"
   ]
  }
 ],
 "metadata": {
  "kernelspec": {
   "display_name": "Python 2",
   "language": "python",
   "name": "python2"
  },
  "language_info": {
   "codemirror_mode": {
    "name": "ipython",
    "version": 2
   },
   "file_extension": ".py",
   "mimetype": "text/x-python",
   "name": "python",
   "nbconvert_exporter": "python",
   "pygments_lexer": "ipython2",
   "version": "2.7.10"
  }
 },
 "nbformat": 4,
 "nbformat_minor": 2
}
